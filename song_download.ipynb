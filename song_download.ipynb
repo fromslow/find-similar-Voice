{
  "nbformat": 4,
  "nbformat_minor": 0,
  "metadata": {
    "colab": {
      "name": "song_download",
      "provenance": [],
      "collapsed_sections": []
    },
    "kernelspec": {
      "name": "python3",
      "display_name": "Python 3"
    }
  },
  "cells": [
    {
      "cell_type": "code",
      "metadata": {
        "colab": {
          "base_uri": "https://localhost:8080/"
        },
        "id": "0cX55Oe5ZwGj",
        "outputId": "c04199b3-5167-4b53-ce50-52f97d1bac21"
      },
      "source": [
        "pip install pytube"
      ],
      "execution_count": 5,
      "outputs": [
        {
          "output_type": "stream",
          "text": [
            "Requirement already satisfied: pytube in /usr/local/lib/python3.7/dist-packages (10.8.5)\n"
          ],
          "name": "stdout"
        }
      ]
    },
    {
      "cell_type": "code",
      "metadata": {
        "id": "fRDmJ8LwEUgk"
      },
      "source": [
        "import time\n",
        "from pytube import YouTube\n",
        "import glob\n",
        "import os.path\n",
        "import os\n",
        "import pandas as pd\n",
        "import librosa.display, librosa\n",
        "from scipy.io import wavfile\n",
        "from bs4 import BeautifulSoup\n",
        "import matplotlib.pyplot as plt"
      ],
      "execution_count": 6,
      "outputs": []
    },
    {
      "cell_type": "code",
      "metadata": {
        "colab": {
          "base_uri": "https://localhost:8080/"
        },
        "id": "9I5oLDUl5rv5",
        "outputId": "7895f2cd-4895-408d-bdaa-ec42c339ba99"
      },
      "source": [
        "import os, sys \n",
        "from google.colab import drive \n",
        "drive.mount('/content/mnt') "
      ],
      "execution_count": 7,
      "outputs": [
        {
          "output_type": "stream",
          "text": [
            "Drive already mounted at /content/mnt; to attempt to forcibly remount, call drive.mount(\"/content/mnt\", force_remount=True).\n"
          ],
          "name": "stdout"
        }
      ]
    },
    {
      "cell_type": "code",
      "metadata": {
        "id": "i2D9pkER5sGV",
        "colab": {
          "base_uri": "https://localhost:8080/",
          "height": 34
        },
        "outputId": "5eda2cf6-e7af-4afc-c39e-e784c6be4f01"
      },
      "source": [
        "os.chdir(\"/content/mnt/Shareddrives/너목보(Guest.최준)/song\")\n",
        "os.getcwd()"
      ],
      "execution_count": 8,
      "outputs": [
        {
          "output_type": "execute_result",
          "data": {
            "application/vnd.google.colaboratory.intrinsic+json": {
              "type": "string"
            },
            "text/plain": [
              "'/content/mnt/Shareddrives/너목보(Guest.최준)/song'"
            ]
          },
          "metadata": {
            "tags": []
          },
          "execution_count": 8
        }
      ]
    },
    {
      "cell_type": "code",
      "metadata": {
        "id": "DGnaHHdJxWw6"
      },
      "source": [
        "song_list = pd.read_csv(\"박재범.csv\",header=None)"
      ],
      "execution_count": 9,
      "outputs": []
    },
    {
      "cell_type": "code",
      "metadata": {
        "colab": {
          "base_uri": "https://localhost:8080/",
          "height": 324
        },
        "id": "N0MrXEQ5SN9P",
        "outputId": "5e2b4d67-fb10-47ba-a58f-8adeb1b5b114"
      },
      "source": [
        "song_list"
      ],
      "execution_count": 10,
      "outputs": [
        {
          "output_type": "execute_result",
          "data": {
            "text/html": [
              "<div>\n",
              "<style scoped>\n",
              "    .dataframe tbody tr th:only-of-type {\n",
              "        vertical-align: middle;\n",
              "    }\n",
              "\n",
              "    .dataframe tbody tr th {\n",
              "        vertical-align: top;\n",
              "    }\n",
              "\n",
              "    .dataframe thead th {\n",
              "        text-align: right;\n",
              "    }\n",
              "</style>\n",
              "<table border=\"1\" class=\"dataframe\">\n",
              "  <thead>\n",
              "    <tr style=\"text-align: right;\">\n",
              "      <th></th>\n",
              "      <th>0</th>\n",
              "      <th>1</th>\n",
              "      <th>2</th>\n",
              "    </tr>\n",
              "  </thead>\n",
              "  <tbody>\n",
              "    <tr>\n",
              "      <th>0</th>\n",
              "      <td>박재범</td>\n",
              "      <td>DEMON</td>\n",
              "      <td>https://www.youtube.com/watch?v=uE9uDde2CY8</td>\n",
              "    </tr>\n",
              "    <tr>\n",
              "      <th>1</th>\n",
              "      <td>박재범</td>\n",
              "      <td>All the way up</td>\n",
              "      <td>https://www.youtube.com/watch?v=ypCClfIuUrE</td>\n",
              "    </tr>\n",
              "    <tr>\n",
              "      <th>2</th>\n",
              "      <td>박재범</td>\n",
              "      <td>Dank</td>\n",
              "      <td>https://www.youtube.com/watch?v=_UnYwv3V75A</td>\n",
              "    </tr>\n",
              "    <tr>\n",
              "      <th>3</th>\n",
              "      <td>박재범</td>\n",
              "      <td>Million</td>\n",
              "      <td>https://www.youtube.com/watch?v=SDgqs7y9fKs</td>\n",
              "    </tr>\n",
              "    <tr>\n",
              "      <th>4</th>\n",
              "      <td>박재범</td>\n",
              "      <td>Sexy 4 Eva</td>\n",
              "      <td>https://www.youtube.com/watch?v=ChASd2bPLtc</td>\n",
              "    </tr>\n",
              "    <tr>\n",
              "      <th>5</th>\n",
              "      <td>박재범</td>\n",
              "      <td>V</td>\n",
              "      <td>https://www.youtube.com/watch?v=WxF7fmt3Ems</td>\n",
              "    </tr>\n",
              "    <tr>\n",
              "      <th>6</th>\n",
              "      <td>박재범</td>\n",
              "      <td>NaNa</td>\n",
              "      <td>https://www.youtube.com/watch?v=c32sSaUyxhM</td>\n",
              "    </tr>\n",
              "    <tr>\n",
              "      <th>7</th>\n",
              "      <td>박재범</td>\n",
              "      <td>Me Like Yuh</td>\n",
              "      <td>https://www.youtube.com/watch?v=1hYP4rmRVKE</td>\n",
              "    </tr>\n",
              "    <tr>\n",
              "      <th>8</th>\n",
              "      <td>박재범</td>\n",
              "      <td>Aquaman</td>\n",
              "      <td>https://www.youtube.com/watch?v=-qSNMfm1rlg</td>\n",
              "    </tr>\n",
              "  </tbody>\n",
              "</table>\n",
              "</div>"
            ],
            "text/plain": [
              "     0               1                                            2\n",
              "0  박재범           DEMON  https://www.youtube.com/watch?v=uE9uDde2CY8\n",
              "1  박재범  All the way up  https://www.youtube.com/watch?v=ypCClfIuUrE\n",
              "2  박재범            Dank  https://www.youtube.com/watch?v=_UnYwv3V75A\n",
              "3  박재범         Million  https://www.youtube.com/watch?v=SDgqs7y9fKs\n",
              "4  박재범      Sexy 4 Eva  https://www.youtube.com/watch?v=ChASd2bPLtc\n",
              "5  박재범               V  https://www.youtube.com/watch?v=WxF7fmt3Ems\n",
              "6  박재범            NaNa  https://www.youtube.com/watch?v=c32sSaUyxhM\n",
              "7  박재범     Me Like Yuh  https://www.youtube.com/watch?v=1hYP4rmRVKE\n",
              "8  박재범         Aquaman  https://www.youtube.com/watch?v=-qSNMfm1rlg"
            ]
          },
          "metadata": {
            "tags": []
          },
          "execution_count": 10
        }
      ]
    },
    {
      "cell_type": "code",
      "metadata": {
        "colab": {
          "base_uri": "https://localhost:8080/"
        },
        "id": "OUtgVpbVxjF7",
        "outputId": "51d648a5-ce3f-4767-a3f5-3a3d6e809b93"
      },
      "source": [
        "for i in range(30):\n",
        "  #유튜브 전용 인스턴스 생성\n",
        "  par = song_list.iloc[i,2]\n",
        "  yt = YouTube(par)\n",
        "  yt.streams.filter(only_audio=True).all()\n",
        "\n",
        "  # 특정영상 다운로드\n",
        "  yt.streams.filter(only_audio=True).first().download()\n",
        "  print('success')\n",
        "\n",
        "  # 확장자 변경\n",
        "  files = glob.glob(\"*.mp4\")\n",
        "  for x in files:\n",
        "      if not os.path.isdir(x):\n",
        "          filename = os.path.splitext(x)\n",
        "          try:\n",
        "              os.rename(x,song_list.iloc[i,0] + '_' + song_list.iloc[i,1] + '.wav')\n",
        "          except:\n",
        "              pass"
      ],
      "execution_count": null,
      "outputs": [
        {
          "output_type": "stream",
          "text": [
            "/usr/local/lib/python3.7/dist-packages/ipykernel_launcher.py:5: DeprecationWarning: Call to deprecated function all (This object can be treated as a list, all() is useless).\n",
            "  \"\"\"\n"
          ],
          "name": "stderr"
        },
        {
          "output_type": "stream",
          "text": [
            "success\n"
          ],
          "name": "stdout"
        },
        {
          "output_type": "stream",
          "text": [
            "/usr/local/lib/python3.7/dist-packages/ipykernel_launcher.py:5: DeprecationWarning: Call to deprecated function all (This object can be treated as a list, all() is useless).\n",
            "  \"\"\"\n"
          ],
          "name": "stderr"
        },
        {
          "output_type": "stream",
          "text": [
            "success\n"
          ],
          "name": "stdout"
        },
        {
          "output_type": "stream",
          "text": [
            "/usr/local/lib/python3.7/dist-packages/ipykernel_launcher.py:5: DeprecationWarning: Call to deprecated function all (This object can be treated as a list, all() is useless).\n",
            "  \"\"\"\n"
          ],
          "name": "stderr"
        },
        {
          "output_type": "stream",
          "text": [
            "success\n"
          ],
          "name": "stdout"
        },
        {
          "output_type": "stream",
          "text": [
            "/usr/local/lib/python3.7/dist-packages/ipykernel_launcher.py:5: DeprecationWarning: Call to deprecated function all (This object can be treated as a list, all() is useless).\n",
            "  \"\"\"\n"
          ],
          "name": "stderr"
        },
        {
          "output_type": "stream",
          "text": [
            "success\n"
          ],
          "name": "stdout"
        },
        {
          "output_type": "stream",
          "text": [
            "/usr/local/lib/python3.7/dist-packages/ipykernel_launcher.py:5: DeprecationWarning: Call to deprecated function all (This object can be treated as a list, all() is useless).\n",
            "  \"\"\"\n"
          ],
          "name": "stderr"
        },
        {
          "output_type": "stream",
          "text": [
            "success\n"
          ],
          "name": "stdout"
        },
        {
          "output_type": "stream",
          "text": [
            "/usr/local/lib/python3.7/dist-packages/ipykernel_launcher.py:5: DeprecationWarning: Call to deprecated function all (This object can be treated as a list, all() is useless).\n",
            "  \"\"\"\n"
          ],
          "name": "stderr"
        }
      ]
    },
    {
      "cell_type": "code",
      "metadata": {
        "id": "Xt0Nx4u_au3V"
      },
      "source": [
        ""
      ],
      "execution_count": null,
      "outputs": []
    }
  ]
}